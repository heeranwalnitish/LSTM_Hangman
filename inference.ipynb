{
 "cells": [
  {
   "cell_type": "code",
   "execution_count": 5,
   "id": "6386c5d7-9c7e-461e-aed0-1e90eaa717c2",
   "metadata": {
    "tags": []
   },
   "outputs": [
    {
     "name": "stdout",
     "output_type": "stream",
     "text": [
      "Hangman Game\n",
      "Guess the word: _______\n"
     ]
    },
    {
     "name": "stdout",
     "output_type": "stream",
     "text": [
      "Enter your guess:  a\n"
     ]
    },
    {
     "name": "stdout",
     "output_type": "stream",
     "text": [
      "Correct guess!\n",
      "Current progress: _a___a_\n"
     ]
    },
    {
     "name": "stdout",
     "output_type": "stream",
     "text": [
      "Enter your guess:  g\n"
     ]
    },
    {
     "name": "stdout",
     "output_type": "stream",
     "text": [
      "Correct guess!\n",
      "Current progress: _a_g_a_\n"
     ]
    },
    {
     "name": "stdout",
     "output_type": "stream",
     "text": [
      "Enter your guess:  m\n"
     ]
    },
    {
     "name": "stdout",
     "output_type": "stream",
     "text": [
      "Correct guess!\n",
      "Current progress: _a_gma_\n"
     ]
    },
    {
     "name": "stdout",
     "output_type": "stream",
     "text": [
      "Enter your guess:  h\n"
     ]
    },
    {
     "name": "stdout",
     "output_type": "stream",
     "text": [
      "Correct guess!\n",
      "Current progress: ha_gma_\n"
     ]
    },
    {
     "name": "stdout",
     "output_type": "stream",
     "text": [
      "Enter your guess:  n\n"
     ]
    },
    {
     "name": "stdout",
     "output_type": "stream",
     "text": [
      "Correct guess!\n",
      "Current progress: hangman\n",
      "Congratulations! You won!\n"
     ]
    },
    {
     "ename": "AttributeError",
     "evalue": "'dict' object has no attribute 'predict'",
     "output_type": "error",
     "traceback": [
      "\u001b[0;31m---------------------------------------------------------------------------\u001b[0m",
      "\u001b[0;31mAttributeError\u001b[0m                            Traceback (most recent call last)",
      "Input \u001b[0;32mIn [5]\u001b[0m, in \u001b[0;36m<cell line: 77>\u001b[0;34m()\u001b[0m\n\u001b[1;32m     75\u001b[0m input_word \u001b[38;5;241m=\u001b[39m \u001b[38;5;124m\"\u001b[39m\u001b[38;5;124mh_n_man\u001b[39m\u001b[38;5;124m\"\u001b[39m\n\u001b[1;32m     76\u001b[0m input_sequence \u001b[38;5;241m=\u001b[39m np\u001b[38;5;241m.\u001b[39marray([[char_to_index[char] \u001b[38;5;28;01mif\u001b[39;00m char \u001b[38;5;241m!=\u001b[39m \u001b[38;5;124m\"\u001b[39m\u001b[38;5;124m_\u001b[39m\u001b[38;5;124m\"\u001b[39m \u001b[38;5;28;01melse\u001b[39;00m \u001b[38;5;241m0\u001b[39m \u001b[38;5;28;01mfor\u001b[39;00m char \u001b[38;5;129;01min\u001b[39;00m input_word]])\n\u001b[0;32m---> 77\u001b[0m output_sequence \u001b[38;5;241m=\u001b[39m \u001b[43mmodel\u001b[49m\u001b[38;5;241;43m.\u001b[39;49m\u001b[43mpredict\u001b[49m(input_sequence)\n\u001b[1;32m     78\u001b[0m output_sequence \u001b[38;5;241m=\u001b[39m np\u001b[38;5;241m.\u001b[39margmax(output_sequence, axis\u001b[38;5;241m=\u001b[39m\u001b[38;5;241m-\u001b[39m\u001b[38;5;241m1\u001b[39m)\n\u001b[1;32m     79\u001b[0m predicted_word \u001b[38;5;241m=\u001b[39m \u001b[38;5;124m'\u001b[39m\u001b[38;5;124m'\u001b[39m\u001b[38;5;241m.\u001b[39mjoin([index_to_char[index] \u001b[38;5;28;01mfor\u001b[39;00m index \u001b[38;5;129;01min\u001b[39;00m output_sequence[\u001b[38;5;241m0\u001b[39m]])\n",
      "\u001b[0;31mAttributeError\u001b[0m: 'dict' object has no attribute 'predict'"
     ]
    }
   ],
   "source": [
    "import random\n",
    "import numpy as np\n",
    "\n",
    "# Load the trained model\n",
    "# model = load_model(\"path to model\")\n",
    "\n",
    "# Define the char_to_index dictionary\n",
    "char_to_index = {\"a\": 0, \"b\": 1, \"c\": 2, \"d\": 3, \"e\": 4, \"f\": 5, \"g\": 6, \"h\": 7, \"i\": 8, \"j\": 9, \"k\": 10, \"l\": 11, \"m\": 12, \"n\": 13, \"o\": 14, \"p\": 15, \"q\": 16, \"r\": 17, \"s\": 18, \"t\": 19, \"u\": 20, \"v\": 21, \"w\": 22, \"x\": 23, \"y\": 24, \"z\": 25, \"BLANK\": 26}\n",
    "# Define the index_to_char dictionary\n",
    "index_to_char = {index: char for char, index in char_to_index.items()}\n",
    "\n",
    "def choose_word():\n",
    "    words = ['python', 'hangman', 'code', 'game', 'learning']\n",
    "    return random.choice(words)\n",
    "\n",
    "def get_guess(masked_word):\n",
    "    while True:\n",
    "        guess = input(\"Enter your guess: \").lower()\n",
    "        if len(guess) != 1:\n",
    "            print(\"Please enter a single character.\")\n",
    "        elif guess in masked_word:\n",
    "            print(\"You already guessed that letter. Try again.\")\n",
    "        else:\n",
    "            return guess\n",
    "\n",
    "def update_word(word, guess, masked_word):\n",
    "    new_word = \"\"\n",
    "    for i in range(len(word)):\n",
    "        if word[i] == guess:\n",
    "            new_word += guess\n",
    "        else:\n",
    "            new_word += masked_word[i]\n",
    "    return new_word\n",
    "\n",
    "def play_hangman():\n",
    "    word = choose_word()\n",
    "    masked_word = \"_\" * len(word)\n",
    "    tries = 6\n",
    "    guessed_letters = []\n",
    "\n",
    "    print(\"Hangman Game\")\n",
    "    print(\"Guess the word:\", masked_word)\n",
    "\n",
    "    while tries > 0:\n",
    "        guess = get_guess(masked_word)\n",
    "\n",
    "        if guess in guessed_letters:\n",
    "            print(\"You already guessed that letter. Try again.\")\n",
    "            continue\n",
    "\n",
    "        guessed_letters.append(guess)\n",
    "\n",
    "        if guess in word:\n",
    "            masked_word = update_word(word, guess, masked_word)\n",
    "            print(\"Correct guess!\")\n",
    "            print(\"Current progress:\", masked_word)\n",
    "            if \"_\" not in masked_word:\n",
    "                print(\"Congratulations! You won!\")\n",
    "                break\n",
    "        else:\n",
    "            tries -= 1\n",
    "            print(\"Wrong guess!\")\n",
    "            print(\"Tries left:\", tries)\n",
    "        \n",
    "        if tries == 0:\n",
    "            print(\"Out of tries! You lost.\")\n",
    "            print(\"The word was:\", word)\n",
    "\n",
    "# Play Hangman using user input\n",
    "play_hangman()\n",
    "\n",
    "# Example prediction\n",
    "input_word = \"h_n_man\"\n",
    "input_sequence = np.array([[char_to_index[char] if char != \"_\" else 0 for char in input_word]])\n",
    "output_sequence = model.predict(input_sequence)\n",
    "output_sequence = np.argmax(output_sequence, axis=-1)\n",
    "predicted_word = ''.join([index_to_char[index] for index in output_sequence[0]])\n",
    "\n",
    "print(\"Original Word:\", input_word)\n",
    "print(\"Predicted Word:\", predicted_word)\n"
   ]
  },
  {
   "cell_type": "code",
   "execution_count": null,
   "id": "8bb9fa2e-93dd-41b2-b03d-73742b1b80ec",
   "metadata": {},
   "outputs": [],
   "source": []
  }
 ],
 "metadata": {
  "kernelspec": {
   "display_name": "Python 3 (ipykernel)",
   "language": "python",
   "name": "python3"
  },
  "language_info": {
   "codemirror_mode": {
    "name": "ipython",
    "version": 3
   },
   "file_extension": ".py",
   "mimetype": "text/x-python",
   "name": "python",
   "nbconvert_exporter": "python",
   "pygments_lexer": "ipython3",
   "version": "3.8.10"
  }
 },
 "nbformat": 4,
 "nbformat_minor": 5
}
